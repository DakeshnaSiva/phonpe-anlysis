{
 "cells": [
  {
   "cell_type": "code",
   "execution_count": 2,
   "metadata": {},
   "outputs": [
    {
     "ename": "NotADirectoryError",
     "evalue": "[WinError 267] The directory name is invalid: 'D:\\\\dakeshna\\\\Django Python\\\\link\\\\pulse\\\\data\\\\aggregated\\\\transaction\\\\country\\\\india\\\\state\\\\andaman-&-nicobar-islands\\\\2018\\\\1.json'",
     "output_type": "error",
     "traceback": [
      "\u001b[1;31m---------------------------------------------------------------------------\u001b[0m",
      "\u001b[1;31mNotADirectoryError\u001b[0m                        Traceback (most recent call last)",
      "Cell \u001b[1;32mIn[2], line 13\u001b[0m\n\u001b[0;32m     10\u001b[0m \u001b[39mfor\u001b[39;00m quarter_dir \u001b[39min\u001b[39;00m os\u001b[39m.\u001b[39mlistdir(os\u001b[39m.\u001b[39mpath\u001b[39m.\u001b[39mjoin(\u001b[39mdir\u001b[39m, state_dir, year_dir)):\n\u001b[0;32m     11\u001b[0m     quarter \u001b[39m=\u001b[39m quarter_dir\u001b[39m.\u001b[39msplit(\u001b[39m'\u001b[39m\u001b[39m_\u001b[39m\u001b[39m'\u001b[39m)[\u001b[39m-\u001b[39m\u001b[39m1\u001b[39m]  \n\u001b[1;32m---> 13\u001b[0m     \u001b[39mfor\u001b[39;00m filename \u001b[39min\u001b[39;00m os\u001b[39m.\u001b[39;49mlistdir(os\u001b[39m.\u001b[39;49mpath\u001b[39m.\u001b[39;49mjoin(\u001b[39mdir\u001b[39;49m, state_dir, year_dir, quarter_dir)):\n\u001b[0;32m     14\u001b[0m         \u001b[39mif\u001b[39;00m filename\u001b[39m.\u001b[39mendswith(\u001b[39m'\u001b[39m\u001b[39m.json\u001b[39m\u001b[39m'\u001b[39m):\n\u001b[0;32m     16\u001b[0m             filepath \u001b[39m=\u001b[39m os\u001b[39m.\u001b[39mpath\u001b[39m.\u001b[39mjoin(\u001b[39mdir\u001b[39m, state_dir, year_dir, quarter_dir, filename)\n",
      "\u001b[1;31mNotADirectoryError\u001b[0m: [WinError 267] The directory name is invalid: 'D:\\\\dakeshna\\\\Django Python\\\\link\\\\pulse\\\\data\\\\aggregated\\\\transaction\\\\country\\\\india\\\\state\\\\andaman-&-nicobar-islands\\\\2018\\\\1.json'"
     ]
    }
   ],
   "source": [
    "import os\n",
    "import pandas as pd\n",
    "import json\n",
    "\n",
    "dir = r'D:\\dakeshna\\Django Python\\link\\pulse\\data\\aggregated\\transaction\\country\\india\\state'\n",
    "dk = []\n",
    "for state_dir in os.listdir(dir):\n",
    "    for year_dir in os.listdir(os.path.join(dir, state_dir)):\n",
    "        year = year_dir[:4] \n",
    "        for quarter_dir in os.listdir(os.path.join(dir, state_dir, year_dir)):\n",
    "            quarter = quarter_dir.split('_')[-1]  \n",
    "    \n",
    "            for filename in os.listdir(os.path.join(dir, state_dir, year_dir, quarter_dir)):\n",
    "                if filename.endswith('.json'):\n",
    "            \n",
    "                    filepath = os.path.join(dir, state_dir, year_dir, quarter_dir, filename)\n",
    "                    with open(filepath, 'r') as f:\n",
    "                        json_data = json.load(f)\n",
    "                    transaction_data = json_data['data']['transactionData']\n",
    "                \n",
    "                    for transaction in transaction_data:\n",
    "                        transaction_name = transaction['name']\n",
    "                        for payment_instrument in transaction['paymentInstruments']:\n",
    "                            payment_type = payment_instrument['type']\n",
    "                            payment_count = payment_instrument['count']\n",
    "                            payment_amount = payment_instrument['amount']\n",
    "                        \n",
    "                            # Create a new row for the dataframe\n",
    "                            row = {\n",
    "                                'state': state_dir,\n",
    "                                'year': year,\n",
    "                                'quarter': quarter,\n",
    "                                'transaction_type': transaction_name,\n",
    "                                'transaction_count': payment_count,\n",
    "                                'transaction_amount': payment_amount\n",
    "                            }\n",
    "                        \n",
    "                        \n",
    "                            dk.append(row)\n",
    "\n",
    "                        \n",
    "                     \n",
    "\n",
    "df = pd.DataFrame(dk)\n"
   ]
  },
  {
   "cell_type": "code",
   "execution_count": 15,
   "metadata": {},
   "outputs": [
    {
     "name": "stdout",
     "output_type": "stream",
     "text": [
      "Empty DataFrame\n",
      "Columns: []\n",
      "Index: []\n"
     ]
    }
   ],
   "source": [
    "dir = r'D:\\dakeshna\\Django Python\\link\\pulse\\data\\aggregated\\transaction\\country\\india\\state'\n",
    "dk = []\n",
    "for state_dir in os.listdir(dir):\n",
    "    for year_dir in os.listdir(os.path.join(dir, state_dir)):\n",
    "        year = year_dir[:4] \n",
    "        for quarter_dir in os.listdir(os.path.join(dir, state_dir, year_dir)):\n",
    "            if os.path.isdir(os.path.join(dir, state_dir, year_dir, quarter_dir)):\n",
    "                quarter = quarter_dir.split('_')[-1]  \n",
    "\n",
    "                for filename in os.listdir(os.path.join(dir, state_dir, year_dir, quarter_dir)):\n",
    "                    if filename.endswith('.json'):\n",
    "\n",
    "                        filepath = os.path.join(dir, state_dir, year_dir, quarter_dir, filename)\n",
    "                        with open(filepath, 'r') as f:\n",
    "                            json_data = json.load(f)\n",
    "                        transaction_data = json_data['data']['transactionData']\n",
    "\n",
    "                        for transaction in transaction_data:\n",
    "                            transaction_name = transaction['name']\n",
    "                            for payment_instrument in transaction['paymentInstruments']:\n",
    "                                payment_type = payment_instrument['type']\n",
    "                                payment_count = payment_instrument['count']\n",
    "                                payment_amount = payment_instrument['amount']\n",
    "\n",
    "                                # Create a new row for the dataframe\n",
    "                                row = {\n",
    "                                    'state': state_dir,\n",
    "                                    'year': year,\n",
    "                                    'quarter': quarter,\n",
    "                                    'transaction_type': transaction_name,\n",
    "                                    'payment_type': payment_type,\n",
    "                                    'payment_count': payment_count,\n",
    "                                    'payment_amount': payment_amount\n",
    "                                }\n",
    "                                dk.append(row)\n",
    "\n",
    "df= pd.DataFrame(dk)\n",
    "print(df)\n"
   ]
  },
  {
   "cell_type": "code",
   "execution_count": 14,
   "metadata": {},
   "outputs": [
    {
     "name": "stdout",
     "output_type": "stream",
     "text": [
      "Empty DataFrame\n",
      "Columns: []\n",
      "Index: []\n"
     ]
    }
   ],
   "source": [
    "print(df)"
   ]
  },
  {
   "cell_type": "code",
   "execution_count": 16,
   "metadata": {},
   "outputs": [
    {
     "data": {
      "text/html": [
       "<div>\n",
       "<style scoped>\n",
       "    .dataframe tbody tr th:only-of-type {\n",
       "        vertical-align: middle;\n",
       "    }\n",
       "\n",
       "    .dataframe tbody tr th {\n",
       "        vertical-align: top;\n",
       "    }\n",
       "\n",
       "    .dataframe thead th {\n",
       "        text-align: right;\n",
       "    }\n",
       "</style>\n",
       "<table border=\"1\" class=\"dataframe\">\n",
       "  <thead>\n",
       "    <tr style=\"text-align: right;\">\n",
       "      <th></th>\n",
       "    </tr>\n",
       "  </thead>\n",
       "  <tbody>\n",
       "  </tbody>\n",
       "</table>\n",
       "</div>"
      ],
      "text/plain": [
       "Empty DataFrame\n",
       "Columns: []\n",
       "Index: []"
      ]
     },
     "execution_count": 16,
     "metadata": {},
     "output_type": "execute_result"
    }
   ],
   "source": [
    "df.head()"
   ]
  },
  {
   "cell_type": "code",
   "execution_count": null,
   "metadata": {},
   "outputs": [],
   "source": []
  },
  {
   "cell_type": "code",
   "execution_count": 17,
   "metadata": {},
   "outputs": [
    {
     "name": "stdout",
     "output_type": "stream",
     "text": [
      "0\n"
     ]
    }
   ],
   "source": [
    "print(len(dk))"
   ]
  },
  {
   "cell_type": "code",
   "execution_count": 18,
   "metadata": {},
   "outputs": [],
   "source": [
    "path=r'D:\\dakeshna\\Django Python\\link\\pulse\\data\\aggregated\\transaction\\country\\india\\state'\n",
    "dir_list_agg = os.listdir(path)\n",
    "fin_df = pd.DataFrame()\n",
    "for state in dir_list_agg:\n",
    "    path1 = path + \"//\" + state\n",
    "    dir_list2 = os.listdir(path1)\n",
    "    for year in dir_list2:\n",
    "        path2 = path1 + \"//\" + year\n",
    "        dir_list3 = os.listdir(path2)\n",
    "        for qtr in dir_list3:\n",
    "            path3 = path2 + \"//\" + qtr\n",
    "            data=open(path3,'r')\n",
    "            Agg_D=json.load(data)\n",
    "            columns={'State':[],'Year':[],'Quater':[],'Transactiontype':[],'TransactionCount':[],'TransactionAmount':[]}\n",
    "            for m in Agg_D['data']['transactionData']:\n",
    "                       Name=m['name']\n",
    "                       count=m['paymentInstruments'][0]['count']\n",
    "                       amount=m['paymentInstruments'][0]['amount']\n",
    "                       columns['Transactiontype'].append(Name)\n",
    "                       columns['TransactionCount'].append(count)\n",
    "                       columns['TransactionAmount'].append(amount)\n",
    "                       columns['State'].append(state)\n",
    "                       columns['Year'].append(year)\n",
    "                       columns['Quater'].append(int(qtr.strip('.json')))\n",
    "                       C_Data=pd.DataFrame(columns)\n",
    "                       fin_df = pd.concat([fin_df,C_Data])\n",
    "            "
   ]
  },
  {
   "cell_type": "code",
   "execution_count": 28,
   "metadata": {},
   "outputs": [
    {
     "data": {
      "text/plain": [
       "457937874.8149981"
      ]
     },
     "execution_count": 28,
     "metadata": {},
     "output_type": "execute_result"
    }
   ],
   "source": [
    "amount"
   ]
  },
  {
   "cell_type": "code",
   "execution_count": 19,
   "metadata": {},
   "outputs": [
    {
     "data": {
      "text/html": [
       "<div>\n",
       "<style scoped>\n",
       "    .dataframe tbody tr th:only-of-type {\n",
       "        vertical-align: middle;\n",
       "    }\n",
       "\n",
       "    .dataframe tbody tr th {\n",
       "        vertical-align: top;\n",
       "    }\n",
       "\n",
       "    .dataframe thead th {\n",
       "        text-align: right;\n",
       "    }\n",
       "</style>\n",
       "<table border=\"1\" class=\"dataframe\">\n",
       "  <thead>\n",
       "    <tr style=\"text-align: right;\">\n",
       "      <th></th>\n",
       "      <th>State</th>\n",
       "      <th>Year</th>\n",
       "      <th>Quater</th>\n",
       "      <th>Transactiontype</th>\n",
       "      <th>TransactionCount</th>\n",
       "      <th>TransactionAmount</th>\n",
       "    </tr>\n",
       "  </thead>\n",
       "  <tbody>\n",
       "    <tr>\n",
       "      <th>0</th>\n",
       "      <td>andaman-&amp;-nicobar-islands</td>\n",
       "      <td>2018</td>\n",
       "      <td>1</td>\n",
       "      <td>Recharge &amp; bill payments</td>\n",
       "      <td>4200</td>\n",
       "      <td>1.845307e+06</td>\n",
       "    </tr>\n",
       "    <tr>\n",
       "      <th>0</th>\n",
       "      <td>andaman-&amp;-nicobar-islands</td>\n",
       "      <td>2018</td>\n",
       "      <td>1</td>\n",
       "      <td>Recharge &amp; bill payments</td>\n",
       "      <td>4200</td>\n",
       "      <td>1.845307e+06</td>\n",
       "    </tr>\n",
       "    <tr>\n",
       "      <th>1</th>\n",
       "      <td>andaman-&amp;-nicobar-islands</td>\n",
       "      <td>2018</td>\n",
       "      <td>1</td>\n",
       "      <td>Peer-to-peer payments</td>\n",
       "      <td>1871</td>\n",
       "      <td>1.213866e+07</td>\n",
       "    </tr>\n",
       "    <tr>\n",
       "      <th>0</th>\n",
       "      <td>andaman-&amp;-nicobar-islands</td>\n",
       "      <td>2018</td>\n",
       "      <td>1</td>\n",
       "      <td>Recharge &amp; bill payments</td>\n",
       "      <td>4200</td>\n",
       "      <td>1.845307e+06</td>\n",
       "    </tr>\n",
       "    <tr>\n",
       "      <th>1</th>\n",
       "      <td>andaman-&amp;-nicobar-islands</td>\n",
       "      <td>2018</td>\n",
       "      <td>1</td>\n",
       "      <td>Peer-to-peer payments</td>\n",
       "      <td>1871</td>\n",
       "      <td>1.213866e+07</td>\n",
       "    </tr>\n",
       "    <tr>\n",
       "      <th>...</th>\n",
       "      <td>...</td>\n",
       "      <td>...</td>\n",
       "      <td>...</td>\n",
       "      <td>...</td>\n",
       "      <td>...</td>\n",
       "      <td>...</td>\n",
       "    </tr>\n",
       "    <tr>\n",
       "      <th>0</th>\n",
       "      <td>west-bengal</td>\n",
       "      <td>2022</td>\n",
       "      <td>4</td>\n",
       "      <td>Peer-to-peer payments</td>\n",
       "      <td>184380244</td>\n",
       "      <td>6.202222e+11</td>\n",
       "    </tr>\n",
       "    <tr>\n",
       "      <th>1</th>\n",
       "      <td>west-bengal</td>\n",
       "      <td>2022</td>\n",
       "      <td>4</td>\n",
       "      <td>Merchant payments</td>\n",
       "      <td>171667404</td>\n",
       "      <td>1.408077e+11</td>\n",
       "    </tr>\n",
       "    <tr>\n",
       "      <th>2</th>\n",
       "      <td>west-bengal</td>\n",
       "      <td>2022</td>\n",
       "      <td>4</td>\n",
       "      <td>Recharge &amp; bill payments</td>\n",
       "      <td>48921147</td>\n",
       "      <td>2.602663e+10</td>\n",
       "    </tr>\n",
       "    <tr>\n",
       "      <th>3</th>\n",
       "      <td>west-bengal</td>\n",
       "      <td>2022</td>\n",
       "      <td>4</td>\n",
       "      <td>Financial Services</td>\n",
       "      <td>268388</td>\n",
       "      <td>2.611229e+08</td>\n",
       "    </tr>\n",
       "    <tr>\n",
       "      <th>4</th>\n",
       "      <td>west-bengal</td>\n",
       "      <td>2022</td>\n",
       "      <td>4</td>\n",
       "      <td>Others</td>\n",
       "      <td>610414</td>\n",
       "      <td>4.579379e+08</td>\n",
       "    </tr>\n",
       "  </tbody>\n",
       "</table>\n",
       "<p>10770 rows × 6 columns</p>\n",
       "</div>"
      ],
      "text/plain": [
       "                        State  Year  Quater           Transactiontype   \n",
       "0   andaman-&-nicobar-islands  2018       1  Recharge & bill payments  \\\n",
       "0   andaman-&-nicobar-islands  2018       1  Recharge & bill payments   \n",
       "1   andaman-&-nicobar-islands  2018       1     Peer-to-peer payments   \n",
       "0   andaman-&-nicobar-islands  2018       1  Recharge & bill payments   \n",
       "1   andaman-&-nicobar-islands  2018       1     Peer-to-peer payments   \n",
       "..                        ...   ...     ...                       ...   \n",
       "0                 west-bengal  2022       4     Peer-to-peer payments   \n",
       "1                 west-bengal  2022       4         Merchant payments   \n",
       "2                 west-bengal  2022       4  Recharge & bill payments   \n",
       "3                 west-bengal  2022       4        Financial Services   \n",
       "4                 west-bengal  2022       4                    Others   \n",
       "\n",
       "    TransactionCount  TransactionAmount  \n",
       "0               4200       1.845307e+06  \n",
       "0               4200       1.845307e+06  \n",
       "1               1871       1.213866e+07  \n",
       "0               4200       1.845307e+06  \n",
       "1               1871       1.213866e+07  \n",
       "..               ...                ...  \n",
       "0          184380244       6.202222e+11  \n",
       "1          171667404       1.408077e+11  \n",
       "2           48921147       2.602663e+10  \n",
       "3             268388       2.611229e+08  \n",
       "4             610414       4.579379e+08  \n",
       "\n",
       "[10770 rows x 6 columns]"
      ]
     },
     "execution_count": 19,
     "metadata": {},
     "output_type": "execute_result"
    }
   ],
   "source": [
    "fin_df"
   ]
  },
  {
   "cell_type": "code",
   "execution_count": 30,
   "metadata": {},
   "outputs": [
    {
     "name": "stdout",
     "output_type": "stream",
     "text": [
      "Collecting openpyxl\n",
      "  Using cached openpyxl-3.1.2-py2.py3-none-any.whl (249 kB)\n",
      "Collecting et-xmlfile\n",
      "  Using cached et_xmlfile-1.1.0-py3-none-any.whl (4.7 kB)\n",
      "Installing collected packages: et-xmlfile, openpyxl\n",
      "Successfully installed et-xmlfile-1.1.0 openpyxl-3.1.2\n",
      "Note: you may need to restart the kernel to use updated packages.\n"
     ]
    },
    {
     "name": "stderr",
     "output_type": "stream",
     "text": [
      "\n",
      "[notice] A new release of pip available: 22.3.1 -> 23.1.2\n",
      "[notice] To update, run: python.exe -m pip install --upgrade pip\n"
     ]
    }
   ],
   "source": [
    "pip install openpyxl"
   ]
  },
  {
   "cell_type": "code",
   "execution_count": 31,
   "metadata": {},
   "outputs": [
    {
     "name": "stdout",
     "output_type": "stream",
     "text": [
      "                        State  Year  Quater           Transactiontype   \n",
      "0   andaman-&-nicobar-islands  2018       1  Recharge & bill payments  \\\n",
      "0   andaman-&-nicobar-islands  2018       1  Recharge & bill payments   \n",
      "1   andaman-&-nicobar-islands  2018       1     Peer-to-peer payments   \n",
      "0   andaman-&-nicobar-islands  2018       1  Recharge & bill payments   \n",
      "1   andaman-&-nicobar-islands  2018       1     Peer-to-peer payments   \n",
      "..                        ...   ...     ...                       ...   \n",
      "0                 west-bengal  2022       4     Peer-to-peer payments   \n",
      "1                 west-bengal  2022       4         Merchant payments   \n",
      "2                 west-bengal  2022       4  Recharge & bill payments   \n",
      "3                 west-bengal  2022       4        Financial Services   \n",
      "4                 west-bengal  2022       4                    Others   \n",
      "\n",
      "    TransactionCount  TransactionAmount  \n",
      "0               4200       1.845307e+06  \n",
      "0               4200       1.845307e+06  \n",
      "1               1871       1.213866e+07  \n",
      "0               4200       1.845307e+06  \n",
      "1               1871       1.213866e+07  \n",
      "..               ...                ...  \n",
      "0          184380244       6.202222e+11  \n",
      "1          171667404       1.408077e+11  \n",
      "2           48921147       2.602663e+10  \n",
      "3             268388       2.611229e+08  \n",
      "4             610414       4.579379e+08  \n",
      "\n",
      "[10770 rows x 6 columns]\n"
     ]
    }
   ],
   "source": [
    "fin_df.to_excel(\"D:\\dakeshna\\Django Python\\phonepe.xlsx\")\n",
    "pd.read_excel(\"D:\\dakeshna\\Django Python\\phonepe.xlsx\")\n",
    "print(fin_df)"
   ]
  }
 ],
 "metadata": {
  "kernelspec": {
   "display_name": "Python 3.10.9 ('env': venv)",
   "language": "python",
   "name": "python3"
  },
  "language_info": {
   "codemirror_mode": {
    "name": "ipython",
    "version": 3
   },
   "file_extension": ".py",
   "mimetype": "text/x-python",
   "name": "python",
   "nbconvert_exporter": "python",
   "pygments_lexer": "ipython3",
   "version": "3.10.9"
  },
  "orig_nbformat": 4,
  "vscode": {
   "interpreter": {
    "hash": "cd0e014be8d997ba1533be53db909baaed7c60586ea255c08e83115ace64e70f"
   }
  }
 },
 "nbformat": 4,
 "nbformat_minor": 2
}
